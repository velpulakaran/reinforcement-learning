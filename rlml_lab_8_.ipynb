{
  "nbformat": 4,
  "nbformat_minor": 0,
  "metadata": {
    "colab": {
      "provenance": [],
      "include_colab_link": true
    },
    "kernelspec": {
      "name": "python3",
      "display_name": "Python 3"
    },
    "language_info": {
      "name": "python"
    }
  },
  "cells": [
    {
      "cell_type": "markdown",
      "metadata": {
        "id": "view-in-github",
        "colab_type": "text"
      },
      "source": [
        "<a href=\"https://colab.research.google.com/github/velpulakaran/reinforcement-learning/blob/main/rlml_lab_8_.ipynb\" target=\"_parent\"><img src=\"https://colab.research.google.com/assets/colab-badge.svg\" alt=\"Open In Colab\"/></a>"
      ]
    },
    {
      "cell_type": "markdown",
      "source": [
        "#2303A51587\n",
        "\n",
        "KARAN\n",
        "\n",
        "Batch:- 09"
      ],
      "metadata": {
        "id": "npAVUVYIHGP2"
      }
    },
    {
      "cell_type": "markdown",
      "source": [
        "Implementing Actor-Critic method -e.g., A2A for continuous action space problems."
      ],
      "metadata": {
        "id": "A3WHZXDrHGDm"
      }
    },
    {
      "cell_type": "code",
      "metadata": {
        "colab": {
          "base_uri": "https://localhost:8080/"
        },
        "id": "e22ab39e",
        "outputId": "2d50f7a6-714a-4e7a-9ded-9a4a959e3273"
      },
      "source": [
        "%pip install gymnasium"
      ],
      "execution_count": null,
      "outputs": [
        {
          "output_type": "stream",
          "name": "stdout",
          "text": [
            "Requirement already satisfied: gymnasium in /usr/local/lib/python3.12/dist-packages (1.2.1)\n",
            "Requirement already satisfied: numpy>=1.21.0 in /usr/local/lib/python3.12/dist-packages (from gymnasium) (2.0.2)\n",
            "Requirement already satisfied: cloudpickle>=1.2.0 in /usr/local/lib/python3.12/dist-packages (from gymnasium) (3.1.1)\n",
            "Requirement already satisfied: typing-extensions>=4.3.0 in /usr/local/lib/python3.12/dist-packages (from gymnasium) (4.15.0)\n",
            "Requirement already satisfied: farama-notifications>=0.0.1 in /usr/local/lib/python3.12/dist-packages (from gymnasium) (0.0.4)\n"
          ]
        }
      ]
    },
    {
      "cell_type": "code",
      "metadata": {
        "colab": {
          "base_uri": "https://localhost:8080/"
        },
        "id": "b35049b2",
        "outputId": "ba946746-ea44-41c6-96db-bbe38b5f2ab0"
      },
      "source": [
        "# a2c_continuous.py\n",
        "import math\n",
        "import time\n",
        "import numpy as np\n",
        "import gymnasium as gym # Changed from gym to gymnasium\n",
        "import torch\n",
        "import torch.nn as nn\n",
        "import torch.optim as optim\n",
        "from torch.distributions import Normal\n",
        "\n",
        "device = torch.device(\"cuda\" if torch.cuda.is_available() else \"cpu\")\n",
        "\n",
        "class ActorCritic(nn.Module):\n",
        "    def __init__(self, obs_dim, act_dim, hidden=256):\n",
        "        super().__init__()\n",
        "        self.shared = nn.Sequential(\n",
        "            nn.Linear(obs_dim, hidden),\n",
        "            nn.ReLU(),\n",
        "            nn.Linear(hidden, hidden),\n",
        "            nn.ReLU()\n",
        "        )\n",
        "        self.mu_head = nn.Linear(hidden, act_dim)\n",
        "        self.log_std = nn.Parameter(torch.zeros(act_dim))  # state-independent log-std\n",
        "        self.value_head = nn.Linear(hidden, 1)\n",
        "\n",
        "    def forward(self, x):\n",
        "        x = self.shared(x)\n",
        "        mu = self.mu_head(x)\n",
        "        std = torch.exp(self.log_std)\n",
        "        value = self.value_head(x).squeeze(-1)\n",
        "        return mu, std, value\n",
        "\n",
        "def get_env(name=\"Pendulum-v1\", seed=0):\n",
        "    # Removed new_step_api=True as it's not supported for this environment\n",
        "    env = gym.make(name)\n",
        "    # Changed env.seed(seed) to env.reset(seed=seed)\n",
        "    env.reset(seed=seed)\n",
        "    env.action_space.seed(seed)\n",
        "    np.random.seed(seed)\n",
        "    torch.manual_seed(seed)\n",
        "    return env\n",
        "\n",
        "def compute_returns(rewards, masks, values, gamma, next_value):\n",
        "    \"\"\"\n",
        "    rewards: list of rewards (T,)\n",
        "    masks: list of masks (1 if not done else 0)\n",
        "    values: list of predicted values (T,)\n",
        "    next_value: scalar predicted value for the state following the rollout\n",
        "    returns computed in reversed order\n",
        "    \"\"\"\n",
        "    T = len(rewards)\n",
        "    returns = torch.zeros(T, device=device)\n",
        "    R = next_value\n",
        "    for t in reversed(range(T)):\n",
        "        R = rewards[t] + gamma * R * masks[t]\n",
        "        returns[t] = R\n",
        "    return returns\n",
        "\n",
        "def train_a2c(env_name=\"Pendulum-v1\",\n",
        "              total_frames=200_0,\n",
        "              rollout_len=5,\n",
        "              gamma=0.99,\n",
        "              lr=3e-4,\n",
        "              value_coef=0.5,\n",
        "              entropy_coef=0.01,\n",
        "              max_grad_norm=0.5,\n",
        "              log_interval=200,\n",
        "              seed=42):\n",
        "    env = get_env(env_name, seed)\n",
        "    # Use env.reset() to get the initial observation and info, handle the tuple return\n",
        "    obs_sample, _ = env.reset()\n",
        "    obs_dim = obs_sample.shape[0]\n",
        "    act_dim = env.action_space.shape[0]\n",
        "\n",
        "    model = ActorCritic(obs_dim, act_dim).to(device)\n",
        "    optimizer = optim.Adam(model.parameters(), lr=lr)\n",
        "\n",
        "    # Use env.reset() to get the initial state and info, handle the tuple return\n",
        "    state, _ = env.reset()\n",
        "    state = torch.tensor(state, dtype=torch.float32, device=device)\n",
        "\n",
        "    frame_count = 0\n",
        "    episode_reward = 0.0\n",
        "    episode_count = 0\n",
        "    rewards_log = []\n",
        "    t_start = time.time()\n",
        "\n",
        "    while frame_count < total_frames:\n",
        "        states = []\n",
        "        actions = []\n",
        "        log_probs = []\n",
        "        rewards = []\n",
        "        masks = []\n",
        "        values = []\n",
        "\n",
        "        # collect rollout_len steps\n",
        "        for _ in range(rollout_len):\n",
        "            mu, std, value = model(state.unsqueeze(0))\n",
        "            mu = mu.squeeze(0)\n",
        "            dist = Normal(mu, std)\n",
        "            action = dist.sample()\n",
        "            action_clipped = action.clamp(torch.tensor(env.action_space.low, device=device),\n",
        "                                          torch.tensor(env.action_space.high, device=device))\n",
        "            log_prob = dist.log_prob(action).sum()\n",
        "\n",
        "            # Use the new step API which returns (observation, reward, terminated, truncated, info)\n",
        "            step_out = env.step(action_clipped.cpu().numpy())\n",
        "            next_state, reward, terminated, truncated, info = step_out\n",
        "            done = terminated or truncated\n",
        "\n",
        "            next_state = torch.tensor(next_state, dtype=torch.float32, device=device)\n",
        "\n",
        "            states.append(state)\n",
        "            actions.append(action)\n",
        "            log_probs.append(log_prob)\n",
        "            rewards.append(torch.tensor(reward, dtype=torch.float32, device=device))\n",
        "            masks.append(torch.tensor(0.0 if done else 1.0, dtype=torch.float32, device=device))\n",
        "            values.append(value.squeeze(0))\n",
        "\n",
        "            state = next_state\n",
        "            episode_reward += float(reward)\n",
        "            frame_count += 1\n",
        "\n",
        "            if done:\n",
        "                rewards_log.append(episode_reward)\n",
        "                episode_reward = 0.0\n",
        "                episode_count += 1\n",
        "                # Use env.reset() to get the initial state and info, handle the tuple return\n",
        "                state, _ = env.reset()\n",
        "                state = torch.tensor(state, dtype=torch.float32, device=device)\n",
        "\n",
        "            if frame_count >= total_frames:\n",
        "                break\n",
        "\n",
        "        # bootstrap value for next state\n",
        "        with torch.no_grad():\n",
        "            _, _, next_value = model(state.unsqueeze(0))\n",
        "            next_value = next_value.squeeze(0)\n",
        "\n",
        "        # convert lists to tensors\n",
        "        log_probs = torch.stack(log_probs)\n",
        "        values = torch.stack(values)\n",
        "        rewards = torch.stack(rewards)\n",
        "        masks = torch.stack(masks)\n",
        "\n",
        "        returns = compute_returns(rewards, masks, values, gamma, next_value)\n",
        "\n",
        "        advantages = returns - values\n",
        "\n",
        "        # losses\n",
        "        policy_loss = -(log_probs * advantages.detach()).mean()\n",
        "        value_loss = advantages.pow(2).mean()\n",
        "        # entropy: encourage exploration\n",
        "        # entropy of Normal with std: 0.5*ln(2*pi*e*sigma^2), sum across action dims\n",
        "        mu_batch, std_batch, _ = model(torch.stack(states))\n",
        "        dist_batch = Normal(mu_batch, std_batch)\n",
        "        entropy = dist_batch.entropy().sum(-1).mean()\n",
        "\n",
        "        loss = policy_loss + value_coef * value_loss - entropy_coef * entropy\n",
        "\n",
        "        optimizer.zero_grad()\n",
        "        loss.backward()\n",
        "        nn.utils.clip_grad_norm_(model.parameters(), max_grad_norm)\n",
        "        optimizer.step()\n",
        "\n",
        "        # logging\n",
        "        if frame_count % log_interval < rollout_len:\n",
        "            avg_return = np.mean(rewards_log[-10:]) if len(rewards_log) > 0 else 0.0\n",
        "            fps = frame_count / (time.time() - t_start + 1e-8)\n",
        "            print(f\"Frames: {frame_count:7d} | Episodes: {episode_count:4d} | AvgReturn(10): {avg_return:7.2f} | Loss: {loss.item():.4f} | FPS: {fps:.1f}\")\n",
        "\n",
        "    env.close()\n",
        "    print(\"Training complete\")\n",
        "    return model\n",
        "\n",
        "if __name__ == \"__main__\":\n",
        "    trained = train_a2c(\n",
        "        env_name=\"Pendulum-v1\",\n",
        "        total_frames=200_0,\n",
        "        rollout_len=5,\n",
        "        gamma=0.99,\n",
        "        lr=3e-4,\n",
        "        value_coef=0.5,\n",
        "        entropy_coef=0.01,\n",
        "        max_grad_norm=0.5,\n",
        "        log_interval=200,\n",
        "        seed=0\n",
        "    )\n",
        "    # save model\n",
        "    torch.save(trained.state_dict(), \"a2c_pendulum.pt\")\n",
        "    print(\"Saved model to a2c_pendulum.pt\")"
      ],
      "execution_count": null,
      "outputs": [
        {
          "output_type": "stream",
          "name": "stdout",
          "text": [
            "Frames:     200 | Episodes:    1 | AvgReturn(10): -1423.28 | Loss: 290.5755 | FPS: 515.5\n",
            "Frames:     400 | Episodes:    2 | AvgReturn(10): -1424.33 | Loss: 74.4050 | FPS: 499.0\n",
            "Frames:     600 | Episodes:    3 | AvgReturn(10): -1340.16 | Loss: 40.8703 | FPS: 501.5\n",
            "Frames:     800 | Episodes:    4 | AvgReturn(10): -1371.58 | Loss: 112.3845 | FPS: 504.4\n",
            "Frames:    1000 | Episodes:    5 | AvgReturn(10): -1415.79 | Loss: 61.4958 | FPS: 500.7\n",
            "Frames:    1200 | Episodes:    6 | AvgReturn(10): -1413.73 | Loss: 113.4399 | FPS: 500.5\n",
            "Frames:    1400 | Episodes:    7 | AvgReturn(10): -1439.66 | Loss: 303.8105 | FPS: 497.5\n",
            "Frames:    1600 | Episodes:    8 | AvgReturn(10): -1406.50 | Loss: 761.2897 | FPS: 497.9\n",
            "Frames:    1800 | Episodes:    9 | AvgReturn(10): -1452.90 | Loss: 971.7520 | FPS: 496.9\n",
            "Frames:    2000 | Episodes:   10 | AvgReturn(10): -1430.42 | Loss: 6228.3228 | FPS: 495.5\n",
            "Training complete\n",
            "Saved model to a2c_pendulum.pt\n"
          ]
        }
      ]
    },
    {
      "cell_type": "code",
      "source": [],
      "metadata": {
        "id": "KxIvVTm1Ggru"
      },
      "execution_count": null,
      "outputs": []
    }
  ]
}