{
  "nbformat": 4,
  "nbformat_minor": 0,
  "metadata": {
    "colab": {
      "provenance": [],
      "authorship_tag": "ABX9TyNmdi5EvclwdT26U1w4F9BW",
      "include_colab_link": true
    },
    "kernelspec": {
      "name": "python3",
      "display_name": "Python 3"
    },
    "language_info": {
      "name": "python"
    }
  },
  "cells": [
    {
      "cell_type": "markdown",
      "metadata": {
        "id": "view-in-github",
        "colab_type": "text"
      },
      "source": [
        "<a href=\"https://colab.research.google.com/github/velpulakaran/reinforcement-learning/blob/main/LAB_1.ipynb\" target=\"_parent\"><img src=\"https://colab.research.google.com/assets/colab-badge.svg\" alt=\"Open In Colab\"/></a>"
      ]
    },
    {
      "cell_type": "code",
      "execution_count": 1,
      "metadata": {
        "colab": {
          "base_uri": "https://localhost:8080/"
        },
        "id": "m1coeICjE4pj",
        "outputId": "64404e7a-aa84-40df-9cb1-449837338379"
      },
      "outputs": [
        {
          "output_type": "stream",
          "name": "stdout",
          "text": [
            "Optimal Value Function:\n",
            "[9.99999179 9.99999179 9.99999179 9.99999179]\n",
            "Optimal Policy (0: Left, 1: Right):\n",
            "[1 1 0 0]\n"
          ]
        }
      ],
      "source": [
        "import numpy as np\n",
        "\n",
        "# Define the MDP\n",
        "# Example: Gridworld MDP with 4 states and 2 actions (left, right)\n",
        "num_states = 4\n",
        "num_actions = 2\n",
        "P = np.zeros((num_states, num_actions, num_states))  # Transition probabilities\n",
        "R = np.zeros((num_states, num_actions, num_states))  # Rewards\n",
        "\n",
        "# Define transitions and rewards (example)\n",
        "# State 0\n",
        "P[0, 0, 0] = 1.0  # If at state 0 and action left, stays at state 0\n",
        "P[0, 1, 1] = 1.0  # If at state 0 and action right, moves to state 1\n",
        "R[0, 0, 0] = 0.0  # Reward for staying at state 0\n",
        "R[0, 1, 1] = 1.0  # Reward for moving to state 1\n",
        "\n",
        "# State 1\n",
        "P[1, 0, 0] = 0.8\n",
        "P[1, 0, 1] = 0.2\n",
        "P[1, 1, 2] = 1.0\n",
        "R[1, 0, 0] = 0.8\n",
        "R[1, 0, 1] = 0.2\n",
        "R[1, 1, 2] = 1.0\n",
        "\n",
        "# State 2\n",
        "P[2, 0, 1] = 1.0\n",
        "P[2, 1, 3] = 1.0\n",
        "R[2, 0, 1] = 1.0\n",
        "R[2, 1, 3] = 1.0\n",
        "\n",
        "# State 3\n",
        "P[3, 0, 2] = 1.0\n",
        "P[3, 1, 3] = 1.0\n",
        "R[3, 0, 2] = 1.0\n",
        "R[3, 1, 3] = 1.0\n",
        "\n",
        "\n",
        "# Value iteration function\n",
        "def value_iteration(P, R, gamma=0.9, epsilon=1e-6):\n",
        "    num_states, num_actions, _ = P.shape\n",
        "    V = np.zeros(num_states)\n",
        "    while True:\n",
        "        V_prev = np.copy(V)\n",
        "        for s in range(num_states):\n",
        "            Q_s = np.zeros(num_actions)\n",
        "            for a in range(num_actions):\n",
        "                Q_s[a] = np.sum(P[s, a] * (R[s, a] + gamma * V_prev))\n",
        "            V[s] = np.max(Q_s)\n",
        "        if np.max(np.abs(V - V_prev)) < epsilon:\n",
        "            break\n",
        "    # Extract policy\n",
        "    policy = np.zeros(num_states, dtype=int)\n",
        "    for s in range(num_states):\n",
        "        Q_s = np.zeros(num_actions)\n",
        "        for a in range(num_actions):\n",
        "            Q_s[a] = np.sum(P[s, a] * (R[s, a] + gamma * V))\n",
        "        policy[s] = np.argmax(Q_s)\n",
        "    return V, policy\n",
        "\n",
        "# Run value iteration\n",
        "optimal_V, optimal_policy = value_iteration(P, R)\n",
        "\n",
        "print(\"Optimal Value Function:\")\n",
        "print(optimal_V)\n",
        "print(\"Optimal Policy (0: Left, 1: Right):\")\n",
        "print(optimal_policy)\n"
      ]
    },
    {
      "cell_type": "code",
      "source": [
        "def policy_iteration(P, R, gamma=0.9, epsilon=1e-6):\n",
        "    num_states, num_actions, _ = P.shape\n",
        "    policy = np.random.randint(num_actions, size=num_states)  # Initialize policy randomly\n",
        "    while True:\n",
        "        # Policy Evaluation\n",
        "        V = np.zeros(num_states)\n",
        "        while True:\n",
        "            V_prev = np.copy(V)\n",
        "            for s in range(num_states):\n",
        "                a = policy[s]\n",
        "                V[s] = np.sum(P[s, a] * (R[s, a] + gamma * V_prev))\n",
        "            if np.max(np.abs(V - V_prev)) < epsilon:\n",
        "                break\n",
        "\n",
        "        # Policy Improvement\n",
        "        policy_stable = True\n",
        "        for s in range(num_states):\n",
        "            old_action = policy[s]\n",
        "            Q_s = np.zeros(num_actions)\n",
        "            for a in range(num_actions):\n",
        "                Q_s[a] = np.sum(P[s, a] * (R[s, a] + gamma * V))\n",
        "            policy[s] = np.argmax(Q_s)\n",
        "            if old_action != policy[s]:\n",
        "                policy_stable = False\n",
        "        if policy_stable:\n",
        "            break\n",
        "    return V, policy\n",
        "\n",
        "# Run policy iteration\n",
        "optimal_V_policy, optimal_policy_policy = policy_iteration(P, R)\n",
        "\n",
        "print(\"Optimal Value Function (Policy Iteration):\")\n",
        "print(optimal_V_policy)\n",
        "print(\"Optimal Policy (Policy Iteration, 0: Left, 1: Right):\")\n",
        "print(optimal_policy_policy)\n"
      ],
      "metadata": {
        "colab": {
          "base_uri": "https://localhost:8080/"
        },
        "id": "ow-ttVERFCNV",
        "outputId": "bd2f96b3-8de2-419f-d47a-555db09b1398"
      },
      "execution_count": 2,
      "outputs": [
        {
          "output_type": "stream",
          "name": "stdout",
          "text": [
            "Optimal Value Function (Policy Iteration):\n",
            "[9.99999179 9.99999179 9.99999179 9.99999179]\n",
            "Optimal Policy (Policy Iteration, 0: Left, 1: Right):\n",
            "[1 1 0 0]\n"
          ]
        }
      ]
    }
  ]
}