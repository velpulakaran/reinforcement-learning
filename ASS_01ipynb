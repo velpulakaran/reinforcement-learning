{
  "nbformat": 4,
  "nbformat_minor": 0,
  "metadata": {
    "colab": {
      "provenance": [],
      "authorship_tag": "ABX9TyMHv3y4T0uoPUCKKv/MJaFq",
      "include_colab_link": true
    },
    "kernelspec": {
      "name": "python3",
      "display_name": "Python 3"
    },
    "language_info": {
      "name": "python"
    }
  },
  "cells": [
    {
      "cell_type": "markdown",
      "metadata": {
        "id": "view-in-github",
        "colab_type": "text"
      },
      "source": [
        "<a href=\"https://colab.research.google.com/github/velpulakaran/reinforcement-learning/blob/main/ASS_01ipynb\" target=\"_parent\"><img src=\"https://colab.research.google.com/assets/colab-badge.svg\" alt=\"Open In Colab\"/></a>"
      ]
    },
    {
      "cell_type": "code",
      "execution_count": null,
      "metadata": {
        "id": "a128E_lr2yeC"
      },
      "outputs": [],
      "source": []
    },
    {
      "cell_type": "code",
      "metadata": {
        "colab": {
          "base_uri": "https://localhost:8080/"
        },
        "id": "b33512fa",
        "outputId": "558985fe-2551-4478-82f0-602466caaa8e"
      },
      "source": [
        "import numpy as np\n",
        "\n",
        "# Define grid dimensions\n",
        "grid_size = 5\n",
        "grid_shape = (grid_size, grid_size)\n",
        "\n",
        "# Define rewards\n",
        "step_reward = -1\n",
        "goal_reward = 10\n",
        "pit_reward = -10\n",
        "\n",
        "# Define special states\n",
        "start_state = (0, 0)\n",
        "goal_state = (4, 4)\n",
        "pit_state = (2, 2)\n",
        "\n",
        "# Create a grid to store rewards (for visualization purposes, not strictly needed for value iteration)\n",
        "rewards = np.full(grid_shape, step_reward)\n",
        "rewards[goal_state] = goal_reward\n",
        "rewards[pit_state] = pit_reward\n",
        "\n",
        "print(\"GridWorld Environment Defined:\")\n",
        "print(\"Grid Size:\", grid_shape)\n",
        "print(\"Start State:\", start_state)\n",
        "print(\"Goal State:\", goal_state, \"(Reward:\", goal_reward, \")\")\n",
        "print(\"Pit State:\", pit_state, \"(Reward:\", pit_reward, \")\")\n",
        "print(\"Step Reward:\", step_reward)\n",
        "print(\"\\nReward Grid (for reference):\")\n",
        "print(rewards)"
      ],
      "execution_count": 1,
      "outputs": [
        {
          "output_type": "stream",
          "name": "stdout",
          "text": [
            "GridWorld Environment Defined:\n",
            "Grid Size: (5, 5)\n",
            "Start State: (0, 0)\n",
            "Goal State: (4, 4) (Reward: 10 )\n",
            "Pit State: (2, 2) (Reward: -10 )\n",
            "Step Reward: -1\n",
            "\n",
            "Reward Grid (for reference):\n",
            "[[ -1  -1  -1  -1  -1]\n",
            " [ -1  -1  -1  -1  -1]\n",
            " [ -1  -1 -10  -1  -1]\n",
            " [ -1  -1  -1  -1  -1]\n",
            " [ -1  -1  -1  -1  10]]\n"
          ]
        }
      ]
    },
    {
      "cell_type": "code",
      "metadata": {
        "colab": {
          "base_uri": "https://localhost:8080/"
        },
        "id": "796764a0",
        "outputId": "c7b09917-ce08-4da5-d597-d8522b937a52"
      },
      "source": [
        "# Define the fixed policy: always try to move Right, otherwise Down\n",
        "def fixed_policy(state, grid_size):\n",
        "    row, col = state\n",
        "    # Try to move right\n",
        "    if col + 1 < grid_size:\n",
        "        return (row, col + 1)\n",
        "    # Otherwise, move down\n",
        "    elif row + 1 < grid_size:\n",
        "        return (row + 1, col)\n",
        "    # If at the edge and cannot move right or down, stay in the current state\n",
        "    else:\n",
        "        return state\n",
        "\n",
        "print(\"Fixed policy defined: Move Right if possible, otherwise Down.\")\n",
        "\n",
        "# Example of policy in action:\n",
        "# From (0,0)\n",
        "next_state_from_start = fixed_policy(start_state, grid_size)\n",
        "print(f\"From {start_state}, the policy moves to {next_state_from_start}\")\n",
        "\n",
        "# From (0,4) (right edge)\n",
        "next_state_from_edge = fixed_policy((0, 4), grid_size)\n",
        "print(f\"From (0, 4), the policy moves to {next_state_from_edge}\")\n",
        "\n",
        "# From (4,4) (goal state)\n",
        "next_state_from_goal = fixed_policy(goal_state, grid_size)\n",
        "print(f\"From {goal_state}, the policy moves to {next_state_from_goal}\")"
      ],
      "execution_count": 2,
      "outputs": [
        {
          "output_type": "stream",
          "name": "stdout",
          "text": [
            "Fixed policy defined: Move Right if possible, otherwise Down.\n",
            "From (0, 0), the policy moves to (0, 1)\n",
            "From (0, 4), the policy moves to (1, 4)\n",
            "From (4, 4), the policy moves to (4, 4)\n"
          ]
        }
      ]
    },
    {
      "cell_type": "code",
      "metadata": {
        "colab": {
          "base_uri": "https://localhost:8080/"
        },
        "id": "77b8810f",
        "outputId": "448f1f12-2012-4c9e-a910-8890103052be"
      },
      "source": [
        "# Define the discount factor\n",
        "gamma = 0.9\n",
        "\n",
        "# Initialize the value function V(s) to zeros for all states\n",
        "V = np.zeros(grid_shape)\n",
        "\n",
        "# Implement Value Function Calculation (Iterative Policy Evaluation)\n",
        "# We will iterate until the value function converges\n",
        "\n",
        "# A small threshold to check for convergence\n",
        "theta = 1e-6\n",
        "delta = float('inf')\n",
        "\n",
        "while delta > theta:\n",
        "    delta = 0\n",
        "    # Iterate through each state in the grid\n",
        "    for r in range(grid_size):\n",
        "        for c in range(grid_size):\n",
        "            current_state = (r, c)\n",
        "            # Store the old value for convergence check\n",
        "            old_v = V[current_state]\n",
        "\n",
        "            # If it's a terminal state (goal or pit), the value is the reward\n",
        "            if current_state == goal_state or current_state == pit_state:\n",
        "                V[current_state] = rewards[current_state]\n",
        "            else:\n",
        "                # Determine the next state based on the fixed policy\n",
        "                next_state = fixed_policy(current_state, grid_size)\n",
        "\n",
        "                # Calculate the value of the current state using the Bellman Expectation Equation\n",
        "                # For a deterministic policy, pi(a|s) is 1 for the action given by the policy and 0 otherwise.\n",
        "                # P(s'|s,a) is 1 for the next state determined by the deterministic environment and 0 otherwise.\n",
        "                # So, the equation simplifies to V(s) = R(s, a, s') + gamma * V(s')\n",
        "                reward = rewards[next_state] # Reward received upon transitioning to the next state\n",
        "                V[current_state] = reward + gamma * V[next_state]\n",
        "\n",
        "            # Update the maximum change\n",
        "            delta = max(delta, abs(old_v - V[current_state]))\n",
        "\n",
        "print(\"Value function computation complete.\")"
      ],
      "execution_count": 3,
      "outputs": [
        {
          "output_type": "stream",
          "name": "stdout",
          "text": [
            "Value function computation complete.\n"
          ]
        }
      ]
    },
    {
      "cell_type": "code",
      "metadata": {
        "colab": {
          "base_uri": "https://localhost:8080/"
        },
        "id": "a1e54603",
        "outputId": "6f88ab25-b1ac-4ffe-f851-c455325da06e"
      },
      "source": [
        "print(\"Computed Value Function V(s):\")\n",
        "# Display the value function V with appropriate formatting\n",
        "# We can iterate through the grid and print the value for each state\n",
        "for r in range(grid_size):\n",
        "    row_values = []\n",
        "    for c in range(grid_size):\n",
        "        row_values.append(f\"{V[r, c]:.2f}\") # Format to 2 decimal places\n",
        "    print(\" \".join(row_values))"
      ],
      "execution_count": 4,
      "outputs": [
        {
          "output_type": "stream",
          "name": "stdout",
          "text": [
            "Computed Value Function V(s):\n",
            "3.87 5.41 7.12 9.03 11.14\n",
            "5.41 7.12 9.03 11.14 13.49\n",
            "-18.10 -19.00 -10.00 13.49 16.10\n",
            "9.03 11.14 13.49 16.10 19.00\n",
            "11.14 13.49 16.10 19.00 10.00\n"
          ]
        }
      ]
    },
    {
      "cell_type": "code",
      "metadata": {
        "colab": {
          "base_uri": "https://localhost:8080/",
          "height": 641
        },
        "id": "2697427a",
        "outputId": "71020cb7-fa19-4baa-9e26-608af99534bb"
      },
      "source": [
        "import matplotlib.pyplot as plt\n",
        "import seaborn as sns\n",
        "\n",
        "# Create a heatmap for visualization\n",
        "plt.figure(figsize=(8, 7))\n",
        "sns.heatmap(V, annot=True, cmap=\"viridis\", fmt=\".2f\", linewidths=.5, linecolor='black')\n",
        "\n",
        "# Add labels and title\n",
        "plt.title(\"Value Function V(s) for the Fixed Policy\")\n",
        "plt.xlabel(\"Column\")\n",
        "plt.ylabel(\"Row\")\n",
        "\n",
        "# Invert the y-axis to match gridworld conventions (row 0 at the top)\n",
        "plt.gca().invert_yaxis()\n",
        "\n",
        "# Display the plot\n",
        "plt.show()"
      ],
      "execution_count": 5,
      "outputs": [
        {
          "output_type": "display_data",
          "data": {
            "text/plain": [
              "<Figure size 800x700 with 2 Axes>"
            ],
            "image/png": "[encoded data removed]"
          },
          "metadata": {}
        }
      ]
    }
  ]
}