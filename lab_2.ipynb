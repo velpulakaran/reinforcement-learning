{
  "nbformat": 4,
  "nbformat_minor": 0,
  "metadata": {
    "colab": {
      "provenance": [],
      "include_colab_link": true
    },
    "kernelspec": {
      "name": "python3",
      "display_name": "Python 3"
    },
    "language_info": {
      "name": "python"
    }
  },
  "cells": [
    {
      "cell_type": "markdown",
      "metadata": {
        "id": "view-in-github",
        "colab_type": "text"
      },
      "source": [
        "<a href=\"https://colab.research.google.com/github/velpulakaran/reinforcement-learning/blob/main/lab_2.ipynb\" target=\"_parent\"><img src=\"https://colab.research.google.com/assets/colab-badge.svg\" alt=\"Open In Colab\"/></a>"
      ]
    },
    {
      "cell_type": "markdown",
      "source": [
        "IMPLEMENTING MONTE CARLO METHODS FOR POLICY EVALUATION AND **CONTROL**"
      ],
      "metadata": {
        "id": "X75hlK0SzW-a"
      }
    },
    {
      "cell_type": "code",
      "execution_count": 1,
      "metadata": {
        "id": "7csXPaLkydbp"
      },
      "outputs": [],
      "source": [
        "import gymnasium as gym\n",
        "import numpy as np\n",
        "from collections import defaultdict"
      ]
    },
    {
      "cell_type": "code",
      "source": [
        "env = gym.make('Blackjack-v1', sab=True)\n",
        "\n",
        "# Function to create a random policy\n",
        "def create_random_policy(env):\n",
        "    return lambda state: np.random.choice(env.action_space.n)\n",
        "\n",
        "# Function to create a greedy policy based on Q-values\n",
        "def create_greedy_policy(Q):\n",
        "    def policy_fn(state):\n",
        "        return np.argmax(Q[state])\n",
        "    return policy_fn"
      ],
      "metadata": {
        "id": "92k-UcwJyrU5"
      },
      "execution_count": 2,
      "outputs": []
    },
    {
      "cell_type": "code",
      "source": [
        "def mc_policy_evaluation(policy, env, num_episodes, gamma=1.0):\n",
        "    returns_sum = defaultdict(float)\n",
        "    returns_count = defaultdict(float)\n",
        "    V = defaultdict(float)\n",
        "\n",
        "    for _ in range(num_episodes):\n",
        "        episode = []\n",
        "        state = env.reset()[0]\n",
        "        done = False\n",
        "\n",
        "        while not done:\n",
        "            action = policy(state)\n",
        "            next_state, reward, terminated, truncated, _ = env.step(action)\n",
        "            done = terminated or truncated # Blackjack env can be terminated or truncated\n",
        "            episode.append((state, action, reward))\n",
        "            state = next_state\n",
        "\n",
        "        visited_states = set()\n",
        "        G = 0\n",
        "        for state, action, reward in reversed(episode):\n",
        "            G = gamma * G + reward\n",
        "            if state not in visited_states:\n",
        "                returns_sum[state] += G\n",
        "                returns_count[state] += 1\n",
        "                V[state] = returns_sum[state] / returns_count[state]\n",
        "                visited_states.add(state)\n",
        "    return V"
      ],
      "metadata": {
        "id": "Tts1j65LyxEx"
      },
      "execution_count": 3,
      "outputs": []
    },
    {
      "cell_type": "code",
      "source": [
        "def mc_control_epsilon_greedy(env, num_episodes, gamma=1.0, epsilon=0.1):\n",
        "    Q = defaultdict(lambda: np.zeros(env.action_space.n))\n",
        "\n",
        "    def policy_fn(state):\n",
        "        if np.random.rand() < epsilon:\n",
        "            return np.random.choice(env.action_space.n)\n",
        "        else:\n",
        "            return np.argmax(Q[state])\n",
        "\n",
        "    for _ in range(num_episodes):\n",
        "        episode = []\n",
        "        state = env.reset()[0]\n",
        "        done = False\n",
        "\n",
        "        while not done:\n",
        "            action = policy_fn(state)\n",
        "            next_state, reward, terminated, truncated, _ = env.step(action)\n",
        "            done = terminated or truncated # Blackjack env can be terminated or truncated\n",
        "            episode.append((state, action, reward))\n",
        "            state = next_state\n",
        "\n",
        "        visited_state_action_pairs = set()\n",
        "        G = 0\n",
        "        for state, action, reward in reversed(episode):\n",
        "            G = gamma * G + reward\n",
        "            if (state, action) not in visited_state_action_pairs:\n",
        "                old_q = Q[state][action]\n",
        "                Q[state][action] = old_q + (G - old_q) / (1 + sum(1 for s, a, r in episode if s == state and a == action))\n",
        "                visited_state_action_pairs.add((state, action))\n",
        "\n",
        "    return Q, create_greedy_policy(Q)"
      ],
      "metadata": {
        "id": "ovwwnaQry1T5"
      },
      "execution_count": 4,
      "outputs": []
    },
    {
      "cell_type": "code",
      "source": [
        "if __name__ == \"__main__\":\n",
        "    random_policy = create_random_policy(env)\n",
        "\n",
        "    print(\"Evaluating random policy...\")\n",
        "    V = mc_policy_evaluation(random_policy, env, num_episodes=50000)\n",
        "    print(\"Value function for random policy (sample):\")\n",
        "    for i, (state, value) in enumerate(list(V.items())[:10]):\n",
        "        print(f\"State: {state}, Value: {value:.2f}\")\n",
        "\n",
        "    print(\"\\nTraining control policy with epsilon-greedy strategy...\")\n",
        "    Q, greedy_policy = mc_control_epsilon_greedy(env, num_episodes=500000)\n",
        "    print(\"Learned Q-values (sample):\")\n",
        "    for i, (state, actions) in enumerate(list(Q.items())[:10]):\n",
        "        print(f\"State: {state}, Actions: {actions}\")"
      ],
      "metadata": {
        "colab": {
          "base_uri": "https://localhost:8080/"
        },
        "id": "-7pER7N6y3Ew",
        "outputId": "a702d109-2083-45c7-bae0-de5ae4210ce7"
      },
      "execution_count": 5,
      "outputs": [
        {
          "output_type": "stream",
          "name": "stdout",
          "text": [
            "Evaluating random policy...\n",
            "Value function for random policy (sample):\n",
            "State: (12, 9, 0), Value: -0.59\n",
            "State: (21, 9, 1), Value: 0.32\n",
            "State: (13, 8, 0), Value: -0.61\n",
            "State: (17, 3, 1), Value: 0.04\n",
            "State: (15, 10, 0), Value: -0.65\n",
            "State: (16, 4, 0), Value: -0.43\n",
            "State: (12, 3, 0), Value: -0.42\n",
            "State: (7, 3, 0), Value: -0.30\n",
            "State: (20, 1, 0), Value: -0.39\n",
            "State: (19, 9, 0), Value: -0.25\n",
            "\n",
            "Training control policy with epsilon-greedy strategy...\n",
            "Learned Q-values (sample):\n",
            "State: (12, 10, 0), Actions: [-0.78027153 -0.99607631]\n",
            "State: (17, 3, 0), Actions: [-0.42029341 -0.9843673 ]\n",
            "State: (17, 3, 1), Actions: [-0.41171796 -0.99663213]\n",
            "State: (10, 6, 0), Actions: [-0.4221838  -0.67239768]\n",
            "State: (7, 10, 0), Actions: [-0.99059294 -0.99749346]\n",
            "State: (20, 10, 0), Actions: [ 0.01901036 -0.99999988]\n",
            "State: (14, 9, 0), Actions: [-0.99217701 -0.81223671]\n",
            "State: (14, 1, 1), Actions: [-0.99603271 -0.96227883]\n",
            "State: (18, 10, 0), Actions: [ 0.17209728 -0.99413679]\n",
            "State: (15, 7, 0), Actions: [-0.99987535 -0.49700856]\n"
          ]
        }
      ]
    }
  ]
}